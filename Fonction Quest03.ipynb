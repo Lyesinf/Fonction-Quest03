{
 "cells": [
  {
   "cell_type": "code",
   "execution_count": 6,
   "id": "43471241",
   "metadata": {},
   "outputs": [],
   "source": [
    "def somme(list):         #Fonction : Somme des éléments de la liste\n",
    "    x=0\n",
    "    for i in list:\n",
    "        x=x+int(i)\n",
    "    return(x)    \n",
    "\n",
    "\n",
    "def multipli(list):      #Fonction : Multiplication des éléments de la liste\n",
    "    x=1\n",
    "    for i in list:\n",
    "        x=x*int(i)\n",
    "    return(x)    \n",
    "\n",
    "\n",
    "def extraire(list):   #Fonction : Extraire liste peire et liste impeire d'une liste\n",
    "    x = []               #Creer une liste vide (x)\n",
    "    y = []               #Creer une liste vide (y)\n",
    "    for i in list:\n",
    "        if(i%2 == 0):    #Elément paire ajouter a (x) \n",
    "            x.append(i)   \n",
    "        else:\n",
    "            y.append(i)  #Elément impaire ajouter a (y)    \n",
    "            \n",
    "    print(\"La liste pair : \",x)\n",
    "    print(\"La liste impair : \",y)\n",
    "    print(\"La somme des element paire de la liste  \",somme(x))\n",
    "    print(\"La somme des element impaire de la liste\",multipli(y))\n",
    "    \n",
    "    \n",
    "list1=[1,2,3,4,5,6,7,8,9]   \n",
    "print(\"La somme des éléments de la liste : \",somme(list1))\n",
    "print(\"La multiplication des éléments de la liste : \",multipli(list1))\n",
    "extraire(list1) "
   ]
  }
 ],
 "metadata": {
  "kernelspec": {
   "display_name": "Python 3 (ipykernel)",
   "language": "python",
   "name": "python3"
  },
  "language_info": {
   "codemirror_mode": {
    "name": "ipython",
    "version": 3
   },
   "file_extension": ".py",
   "mimetype": "text/x-python",
   "name": "python",
   "nbconvert_exporter": "python",
   "pygments_lexer": "ipython3",
   "version": "3.9.7"
  }
 },
 "nbformat": 4,
 "nbformat_minor": 5
}
